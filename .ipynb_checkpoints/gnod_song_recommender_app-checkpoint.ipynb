{
 "cells": [
  {
   "cell_type": "markdown",
   "id": "70779c47",
   "metadata": {},
   "source": [
    "# Setting up the environment"
   ]
  },
  {
   "cell_type": "code",
   "execution_count": 1,
   "id": "be23bf3e",
   "metadata": {},
   "outputs": [],
   "source": [
    "# import relevant libraries\n",
    "import requests # to download html code\n",
    "from bs4 import BeautifulSoup # to navigate through the html code\n",
    "import pandas as pd\n",
    "import numpy as np\n",
    "import re\n",
    "import random\n",
    "import config"
   ]
  },
  {
   "cell_type": "code",
   "execution_count": 2,
   "id": "4ec00cf9",
   "metadata": {},
   "outputs": [],
   "source": [
    "import spotipy\n",
    "import json\n",
    "from spotipy.oauth2 import SpotifyClientCredentials\n",
    "\n",
    "\n",
    "# initialize SpotiPy with user credentials\n",
    "sp = spotipy.Spotify(auth_manager=SpotifyClientCredentials(client_id= config.client_id,\n",
    "                                                           client_secret= config.client_secret))"
   ]
  },
  {
   "cell_type": "code",
   "execution_count": 3,
   "id": "45426479",
   "metadata": {},
   "outputs": [],
   "source": [
    "from sklearn.preprocessing import StandardScaler\n",
    "from sklearn.cluster import KMeans\n",
    "from matplotlib import pyplot\n",
    "import numpy as np"
   ]
  },
  {
   "cell_type": "code",
   "execution_count": 4,
   "id": "e72a58c9",
   "metadata": {},
   "outputs": [],
   "source": [
    "from IPython.display import IFrame, display"
   ]
  },
  {
   "cell_type": "markdown",
   "id": "f7439052",
   "metadata": {},
   "source": [
    "# Functions used"
   ]
  },
  {
   "cell_type": "code",
   "execution_count": 5,
   "id": "c2064e9c",
   "metadata": {},
   "outputs": [],
   "source": [
    "def load_scaler():\n",
    "    \"\"\"Loads in the required objects.\"\"\"\n",
    "    import pickle\n",
    "    with open('scaler_song_recommender.pickle', 'rb') as f:\n",
    "        return pickle.load(f)"
   ]
  },
  {
   "cell_type": "code",
   "execution_count": 6,
   "id": "0480f750",
   "metadata": {},
   "outputs": [],
   "source": [
    "def load_kmeans():\n",
    "    \"\"\"Loads in the required objects.\"\"\"\n",
    "    import pickle\n",
    "    with open('kmeans_song_recommender.pickle', 'rb') as f:\n",
    "        return pickle.load(f)"
   ]
  },
  {
   "cell_type": "code",
   "execution_count": 7,
   "id": "d1f61bfa",
   "metadata": {},
   "outputs": [],
   "source": [
    "# writing the top_100 recommender function\n",
    "def top_100_recommender():\n",
    "    \"\"\"Function that prompts the user for song input\n",
    "    and checks whether it's in the top-100 csv file.\"\"\"\n",
    "    top_100 = pd.read_csv(\"top_100.csv\")\n",
    "    user_input = input(\"Please type in a song you like: \")\n",
    "    if user_input.lower() in map(str.lower, list(top_100[\"Song\"])):\n",
    "        print(\"Your song is in the current top-100.\")\n",
    "        random_song = random.choice(list(top_100[\"Song\"]))\n",
    "        artist = top_100.loc[top_100[\"Song\"] == random_song, 'Artist'].to_string(index=False)\n",
    "        print(f\"\\nHere is another song from the top-100 you might like: {random_song} by {artist}\")\n",
    "    else: \n",
    "        print(\"\\nYour song is not in the current top-100.\")\n",
    "        display(play_song(random_song_recommender()))"
   ]
  },
  {
   "cell_type": "code",
   "execution_count": 8,
   "id": "7fd060f1",
   "metadata": {},
   "outputs": [],
   "source": [
    "def random_song_recommender():\n",
    "    \"\"\"Prompts the use to input a song they like and finds a similar one in the song_df\"\"\"\n",
    "    scaler = load_scaler()\n",
    "    kmeans = load_kmeans()\n",
    "    scaled_songs_df = pd.read_csv(\"scaled_songs_df.csv\")\n",
    "    user_song = input(\"Please give me the name of your favorite song, so that I recommend you another one you might like: \")\n",
    "    result = sp.search(q=user_song,limit=1)\n",
    "    result[\"tracks\"][\"items\"][0][\"id\"]\n",
    "    user_song_audio_features = sp.audio_features(result[\"tracks\"][\"items\"][0][\"id\"])\n",
    "    user_song_df = pd.DataFrame(user_song_audio_features)    \n",
    "    user_song_df = user_song_df[[\"danceability\",\"energy\",\"loudness\",\"speechiness\",\"acousticness\",\n",
    "    \"instrumentalness\",\"liveness\",\"valence\",\"tempo\",\"id\",\"duration_ms\"]]\n",
    "    user_song_audio_features = user_song_df[[\"danceability\", \"energy\", \"loudness\", \"speechiness\", \"acousticness\", \"liveness\", \"valence\", \"tempo\"]]\n",
    "    user_song_audio_features_scaled = scaler.transform(user_song_audio_features)\n",
    "    label = kmeans.predict(user_song_audio_features_scaled)\n",
    "    label = int(label)\n",
    "    scaled_user_song_df = pd.DataFrame(user_song_audio_features_scaled, columns=[\"danceability\", \"energy\", \"loudness\", \"speechiness\", \"acousticness\", \"liveness\", \"valence\", \"tempo\"])\n",
    "    scaled_user_song_df = scaled_user_song_df.join(user_song_df[[\"id\", \"duration_ms\"]])\n",
    "    sample_df = scaled_songs_df.loc[scaled_songs_df[\"clusters\"]== label]\n",
    "    rec_song_df = sample_df.sample(1)\n",
    "    rec_song_id = rec_song_df[\"id\"].to_string(index=False)\n",
    "    return rec_song_id"
   ]
  },
  {
   "cell_type": "code",
   "execution_count": 9,
   "id": "46618c96",
   "metadata": {},
   "outputs": [],
   "source": [
    "def play_song(rec_song_id):\n",
    "    return IFrame(src=\"https://open.spotify.com/embed/track/\"+rec_song_id,\n",
    "       width=\"320\",\n",
    "       height=\"80\",\n",
    "       frameborder=\"0\",\n",
    "       allowtransparency=\"true\",\n",
    "       allow=\"encrypted-media\",\n",
    "      )"
   ]
  },
  {
   "cell_type": "markdown",
   "id": "eb63b803",
   "metadata": {},
   "source": [
    "# Actual programme"
   ]
  },
  {
   "cell_type": "code",
   "execution_count": null,
   "id": "c8cdcb60",
   "metadata": {
    "collapsed": true
   },
   "outputs": [
    {
     "name": "stdout",
     "output_type": "stream",
     "text": [
      "Please type in a song you like: Flowers\n",
      "Your song is in the current top-100.\n",
      "\n",
      "Here is another song from the top-100 you might like: Too Many Nights by Metro Boomin Featuring Don Toliver & Future\n",
      "\n",
      "Do you want to input another song? yes/no: yes\n",
      "Please type in a song you like: sdf\n",
      "\n",
      "Your song is not in the current top-100.\n",
      "Please give me the name of your favorite song, so that I recommend you another one you might like: anyway the wind blows\n"
     ]
    },
    {
     "data": {
      "text/html": [
       "\n",
       "        <iframe\n",
       "            width=\"320\"\n",
       "            height=\"80\"\n",
       "            src=\"https://open.spotify.com/embed/track/0UV5zxRMz6AO4ZwUOZNIKI?frameborder=0&allowtransparency=true&allow=encrypted-media\"\n",
       "            frameborder=\"0\"\n",
       "            allowfullscreen\n",
       "            \n",
       "        ></iframe>\n",
       "        "
      ],
      "text/plain": [
       "<IPython.lib.display.IFrame at 0x1ae502bc880>"
      ]
     },
     "metadata": {},
     "output_type": "display_data"
    }
   ],
   "source": [
    "# writing the loop that ensures the programme keeps running\n",
    "while True:\n",
    "    top_100_recommender()\n",
    "    user_input = input(\"\\nDo you want to input another song? yes/no: \")\n",
    "    if user_input == \"yes\":\n",
    "        continue\n",
    "    elif user_input == \"no\":\n",
    "        print(\"Your session has ended. Thank you for using our app!\")\n",
    "        break\n",
    "    else:\n",
    "        print(\"Please write either 'yes' or 'no'\")\n",
    "        continue"
   ]
  }
 ],
 "metadata": {
  "kernelspec": {
   "display_name": "Python 3 (ipykernel)",
   "language": "python",
   "name": "python3"
  },
  "language_info": {
   "codemirror_mode": {
    "name": "ipython",
    "version": 3
   },
   "file_extension": ".py",
   "mimetype": "text/x-python",
   "name": "python",
   "nbconvert_exporter": "python",
   "pygments_lexer": "ipython3",
   "version": "3.9.13"
  }
 },
 "nbformat": 4,
 "nbformat_minor": 5
}
