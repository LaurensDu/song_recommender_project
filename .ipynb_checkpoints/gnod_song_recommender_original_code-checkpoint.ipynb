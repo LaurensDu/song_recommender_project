{
 "cells": [
  {
   "cell_type": "markdown",
   "id": "af919711",
   "metadata": {},
   "source": [
    "# The code for the \"song recommender\" app"
   ]
  },
  {
   "cell_type": "code",
   "execution_count": 1,
   "id": "acf31ba8",
   "metadata": {},
   "outputs": [],
   "source": [
    "# import relevant libraries\n",
    "import requests # to download html code\n",
    "from bs4 import BeautifulSoup # to navigate through the html code\n",
    "import pandas as pd\n",
    "import numpy as np\n",
    "import re\n",
    "import random\n",
    "import config"
   ]
  },
  {
   "cell_type": "code",
   "execution_count": 2,
   "id": "eaca274a",
   "metadata": {},
   "outputs": [],
   "source": [
    "top_100 = pd.read_csv(\"top_100.csv\", index_col=False)"
   ]
  },
  {
   "cell_type": "code",
   "execution_count": 3,
   "id": "6ca6ac39",
   "metadata": {},
   "outputs": [
    {
     "data": {
      "text/html": [
       "<div>\n",
       "<style scoped>\n",
       "    .dataframe tbody tr th:only-of-type {\n",
       "        vertical-align: middle;\n",
       "    }\n",
       "\n",
       "    .dataframe tbody tr th {\n",
       "        vertical-align: top;\n",
       "    }\n",
       "\n",
       "    .dataframe thead th {\n",
       "        text-align: right;\n",
       "    }\n",
       "</style>\n",
       "<table border=\"1\" class=\"dataframe\">\n",
       "  <thead>\n",
       "    <tr style=\"text-align: right;\">\n",
       "      <th></th>\n",
       "      <th>Unnamed: 0</th>\n",
       "      <th>Artist</th>\n",
       "      <th>Song</th>\n",
       "    </tr>\n",
       "  </thead>\n",
       "  <tbody>\n",
       "    <tr>\n",
       "      <th>0</th>\n",
       "      <td>0</td>\n",
       "      <td>Miley Cyrus</td>\n",
       "      <td>Flowers</td>\n",
       "    </tr>\n",
       "    <tr>\n",
       "      <th>1</th>\n",
       "      <td>1</td>\n",
       "      <td>SZA</td>\n",
       "      <td>Kill Bill</td>\n",
       "    </tr>\n",
       "    <tr>\n",
       "      <th>2</th>\n",
       "      <td>2</td>\n",
       "      <td>Morgan Wallen</td>\n",
       "      <td>Last Night</td>\n",
       "    </tr>\n",
       "    <tr>\n",
       "      <th>3</th>\n",
       "      <td>3</td>\n",
       "      <td>Sam Smith &amp; Kim Petras</td>\n",
       "      <td>Unholy</td>\n",
       "    </tr>\n",
       "    <tr>\n",
       "      <th>4</th>\n",
       "      <td>4</td>\n",
       "      <td>Metro Boomin, The Weeknd &amp; 21 Savage</td>\n",
       "      <td>Creepin'</td>\n",
       "    </tr>\n",
       "  </tbody>\n",
       "</table>\n",
       "</div>"
      ],
      "text/plain": [
       "   Unnamed: 0                                Artist        Song\n",
       "0           0                           Miley Cyrus     Flowers\n",
       "1           1                                   SZA   Kill Bill\n",
       "2           2                         Morgan Wallen  Last Night\n",
       "3           3                Sam Smith & Kim Petras      Unholy\n",
       "4           4  Metro Boomin, The Weeknd & 21 Savage    Creepin'"
      ]
     },
     "execution_count": 3,
     "metadata": {},
     "output_type": "execute_result"
    }
   ],
   "source": [
    "top_100.head()"
   ]
  },
  {
   "cell_type": "code",
   "execution_count": 4,
   "id": "25cd9586",
   "metadata": {},
   "outputs": [],
   "source": [
    "# writing the song recommender function\n",
    "def song_recommender():\n",
    "    \"\"\"Function that prompts the user for song input\n",
    "    and checks whether it's in the top-100 csv file.\"\"\"\n",
    "    top_100 = pd.read_csv(\"top_100.csv\")\n",
    "    user_input = input(\"Please type in your favorite song: \")\n",
    "    if user_input.lower() in map(str.lower, list(top_100[\"Song\"])):\n",
    "        print(\"Your song is in the current top-100.\")\n",
    "        random_song = random.choice(list(top_100[\"Song\"]))\n",
    "        artist = top_100.loc[top_100[\"Song\"] == random_song, 'Artist'].to_string(index=False)\n",
    "        print(f\"\\nHere is another song from the top-100 you might like: {random_song} by {artist}\")\n",
    "    else: \n",
    "        print(\"Your song is not in the current top-100. Let me give you a suggestion for another song.\")"
   ]
  },
  {
   "cell_type": "code",
   "execution_count": 5,
   "id": "b7e1c5a2",
   "metadata": {
    "scrolled": true
   },
   "outputs": [
    {
     "name": "stdout",
     "output_type": "stream",
     "text": [
      "Please type in your favorite song: Flowers\n",
      "Your song is in the current top-100.\n",
      "\n",
      "Here is another song from the top-100 you might like: Tennessee Fan by Morgan Wallen\n",
      "\n",
      "Do you want to input another song? yes/no: no\n",
      "Your session has ended. Thank you for using our app!\n"
     ]
    }
   ],
   "source": [
    "# writing the while loop that ensures the programme keeps running\n",
    "while True:\n",
    "    song_recommender()\n",
    "    user_input = input(\"\\nDo you want to input another song? yes/no: \")\n",
    "    if user_input == \"yes\":\n",
    "        continue\n",
    "    elif user_input == \"no\":\n",
    "        print(\"Your session has ended. Thank you for using our app!\")\n",
    "        break\n",
    "    else:\n",
    "        print(\"Please write either 'yes' or 'no'\")\n",
    "        continue"
   ]
  },
  {
   "cell_type": "markdown",
   "id": "86b31495",
   "metadata": {},
   "source": [
    "# Creating the song database with audio features"
   ]
  },
  {
   "cell_type": "code",
   "execution_count": 6,
   "id": "89a1ea57",
   "metadata": {},
   "outputs": [],
   "source": [
    "import spotipy\n",
    "import json\n",
    "from spotipy.oauth2 import SpotifyClientCredentials\n",
    "\n",
    "\n",
    "# initialize SpotiPy with user credentials\n",
    "sp = spotipy.Spotify(auth_manager=SpotifyClientCredentials(client_id= config.client_id,\n",
    "                                                           client_secret= config.client_secret))"
   ]
  },
  {
   "cell_type": "code",
   "execution_count": 7,
   "id": "b413dd96",
   "metadata": {
    "scrolled": true
   },
   "outputs": [
    {
     "data": {
      "text/plain": [
       "{'added_at': '2022-11-26T02:31:48Z',\n",
       " 'added_by': {'external_urls': {'spotify': 'https://open.spotify.com/user/celsum76'},\n",
       "  'href': 'https://api.spotify.com/v1/users/celsum76',\n",
       "  'id': 'celsum76',\n",
       "  'type': 'user',\n",
       "  'uri': 'spotify:user:celsum76'},\n",
       " 'is_local': False,\n",
       " 'primary_color': None,\n",
       " 'track': {'album': {'album_type': 'album',\n",
       "   'artists': [{'external_urls': {'spotify': 'https://open.spotify.com/artist/5M52tdBnJaKSvOpJGz8mfZ'},\n",
       "     'href': 'https://api.spotify.com/v1/artists/5M52tdBnJaKSvOpJGz8mfZ',\n",
       "     'id': '5M52tdBnJaKSvOpJGz8mfZ',\n",
       "     'name': 'Black Sabbath',\n",
       "     'type': 'artist',\n",
       "     'uri': 'spotify:artist:5M52tdBnJaKSvOpJGz8mfZ'}],\n",
       "   'available_markets': [],\n",
       "   'external_urls': {'spotify': 'https://open.spotify.com/album/1JA2UhLRbFRkmoh6Lz64KH'},\n",
       "   'href': 'https://api.spotify.com/v1/albums/1JA2UhLRbFRkmoh6Lz64KH',\n",
       "   'id': '1JA2UhLRbFRkmoh6Lz64KH',\n",
       "   'images': [{'height': 640,\n",
       "     'url': 'https://i.scdn.co/image/ab67616d0000b2738c9131b3b0f5a4b9fdc5a0ac',\n",
       "     'width': 640},\n",
       "    {'height': 300,\n",
       "     'url': 'https://i.scdn.co/image/ab67616d00001e028c9131b3b0f5a4b9fdc5a0ac',\n",
       "     'width': 300},\n",
       "    {'height': 64,\n",
       "     'url': 'https://i.scdn.co/image/ab67616d000048518c9131b3b0f5a4b9fdc5a0ac',\n",
       "     'width': 64}],\n",
       "   'name': 'Paranoid (Deluxe Edition)',\n",
       "   'release_date': '1970-09-18',\n",
       "   'release_date_precision': 'day',\n",
       "   'total_tracks': 16,\n",
       "   'type': 'album',\n",
       "   'uri': 'spotify:album:1JA2UhLRbFRkmoh6Lz64KH'},\n",
       "  'artists': [{'external_urls': {'spotify': 'https://open.spotify.com/artist/5M52tdBnJaKSvOpJGz8mfZ'},\n",
       "    'href': 'https://api.spotify.com/v1/artists/5M52tdBnJaKSvOpJGz8mfZ',\n",
       "    'id': '5M52tdBnJaKSvOpJGz8mfZ',\n",
       "    'name': 'Black Sabbath',\n",
       "    'type': 'artist',\n",
       "    'uri': 'spotify:artist:5M52tdBnJaKSvOpJGz8mfZ'}],\n",
       "  'available_markets': [],\n",
       "  'disc_number': 1,\n",
       "  'duration_ms': 167720,\n",
       "  'episode': False,\n",
       "  'explicit': False,\n",
       "  'external_ids': {'isrc': 'GBAJE7000057'},\n",
       "  'external_urls': {'spotify': 'https://open.spotify.com/track/3q9G9SvgdfE1fxlvoDIb20'},\n",
       "  'href': 'https://api.spotify.com/v1/tracks/3q9G9SvgdfE1fxlvoDIb20',\n",
       "  'id': '3q9G9SvgdfE1fxlvoDIb20',\n",
       "  'is_local': False,\n",
       "  'name': 'Paranoid',\n",
       "  'popularity': 0,\n",
       "  'preview_url': None,\n",
       "  'track': True,\n",
       "  'track_number': 2,\n",
       "  'type': 'track',\n",
       "  'uri': 'spotify:track:3q9G9SvgdfE1fxlvoDIb20'},\n",
       " 'video_thumbnail': {'url': None}}"
      ]
     },
     "execution_count": 7,
     "metadata": {},
     "output_type": "execute_result"
    }
   ],
   "source": [
    "# checking a playlist\n",
    "playlist = sp.user_playlist_tracks(\"spotify\", \"27gN69ebwiJRtXEboL12Ih\")\n",
    "playlist[\"items\"][0]"
   ]
  },
  {
   "cell_type": "code",
   "execution_count": 8,
   "id": "748b652d",
   "metadata": {},
   "outputs": [],
   "source": [
    "# function that retrieves the songs from a playlist\n",
    "def get_playlist_tracks(username, playlist_id):\n",
    "    results = sp.user_playlist_tracks(username,playlist_id)\n",
    "    tracks = results['items']\n",
    "    while results['next']:\n",
    "        results = sp.next(results)\n",
    "        tracks.extend(results['items'])\n",
    "    return tracks"
   ]
  },
  {
   "cell_type": "code",
   "execution_count": 9,
   "id": "0338143b",
   "metadata": {},
   "outputs": [],
   "source": [
    "# creating a list with playlists id's and defining the variable 'tracks' to store the results\n",
    "playlist_ids = [\"27gN69ebwiJRtXEboL12Ih\", \"37i9dQZF1DX4pUKG1kS0Ac\", \"37i9dQZF1DXbITWG1ZJKYt\", \"37i9dQZF1DXbSbnqxMTGx9\", \"37i9dQZF1DX8a1tdzq5tbM\", \"37i9dQZF1EQpj7X7UK8OOF\", \"37i9dQZF1EQqkOPvHGajmW\", \"17IFbN8moTMWsaK5S5qCyD\", \"5i1mrZvsI0IertAQSeveAL\", \"42eLtt8RUBboyXLmNQWU5a\", \"1h0CEZCm6IbFTbxThn6Xcs\", \"1yswYW9ONg19LAlBOv87qq\", \"4hKNssGmIVEcWu1MF7HzgN\", \"32BC2f8hmAUmvsQgr9Mzsm\", \"37i9dQZF1DX10zKzsJ2jva\", \"37i9dQZF1DWY7IeIP1cdjF\", \"37i9dQZF1DX3MU5XUozve7\", \"37i9dQZF1DWYV7OOaGhoH0\", \"37i9dQZF1DX9XIFQuFvzM4\", \"37i9dQZF1DX0QNpebF7rcL\", \"37i9dQZF1DWVJ0TKGKfzgP\", \"37i9dQZF1DX5uWybZqQtdt\"]\n",
    "tracks = []\n",
    "# genres included: metal, guilty pleasures, jazz, reggae, dance, rock, indie, rap/hiphop, chill, classic, techno, dutch, latin, reggaeton, punk, folk/acoustic, soul, blues, funk, live music\n",
    "\n",
    "# for loop that loops through the playlist ids and retrieves the song with the get_playlist_tracks function\n",
    "for i in playlist_ids:\n",
    "    tracks += get_playlist_tracks(\"spotify\", i)"
   ]
  },
  {
   "cell_type": "code",
   "execution_count": 10,
   "id": "994323cb",
   "metadata": {},
   "outputs": [
    {
     "name": "stdout",
     "output_type": "stream",
     "text": [
      "3219\n"
     ]
    }
   ],
   "source": [
    "# checking how many tracks are in the Pandas dataframe\n",
    "print(len(tracks))"
   ]
  },
  {
   "cell_type": "code",
   "execution_count": null,
   "id": "37a8807e",
   "metadata": {},
   "outputs": [],
   "source": [
    "# getting the audio features\n",
    "list_of_audio_features = []\n",
    "for item in range(len(tracks)):\n",
    "    #print (tracks[item][\"track\"][\"id\"])\n",
    "    list_of_audio_features.append(sp.audio_features(tracks[item][\"track\"][\"id\"])[0])"
   ]
  },
  {
   "cell_type": "code",
   "execution_count": null,
   "id": "ca117497",
   "metadata": {},
   "outputs": [],
   "source": [
    "print(len(tracks))"
   ]
  },
  {
   "cell_type": "code",
   "execution_count": null,
   "id": "291a25da",
   "metadata": {},
   "outputs": [],
   "source": [
    "songs_df = pd.DataFrame(list_of_audio_features)    \n",
    "songs_df = songs_df[[\"danceability\",\"energy\",\"loudness\",\"speechiness\",\"acousticness\",\n",
    "    \"instrumentalness\",\"liveness\",\"valence\",\"tempo\",\"id\",\"duration_ms\"]]\n",
    "\n",
    "songs_df"
   ]
  },
  {
   "cell_type": "markdown",
   "id": "4fca5f82",
   "metadata": {},
   "source": [
    "# Scaling the audio features of the song database and requesting the user's song"
   ]
  },
  {
   "cell_type": "code",
   "execution_count": null,
   "id": "d1ffc399",
   "metadata": {},
   "outputs": [],
   "source": [
    "from sklearn.preprocessing import StandardScaler\n",
    "from sklearn.cluster import KMeans\n",
    "from matplotlib import pyplot\n",
    "import numpy as np"
   ]
  },
  {
   "cell_type": "code",
   "execution_count": null,
   "id": "5eec2679",
   "metadata": {},
   "outputs": [],
   "source": [
    "audio_features = songs_df[[\"danceability\", \"energy\", \"loudness\", \"speechiness\", \"acousticness\", \"liveness\", \"valence\", \"tempo\"]]"
   ]
  },
  {
   "cell_type": "code",
   "execution_count": null,
   "id": "ea64a4ca",
   "metadata": {},
   "outputs": [],
   "source": [
    "audio_features.head()"
   ]
  },
  {
   "cell_type": "code",
   "execution_count": null,
   "id": "8242defb",
   "metadata": {},
   "outputs": [],
   "source": [
    "scaler = StandardScaler()\n",
    "scaler.fit(audio_features)\n",
    "audio_features_scaled = scaler.transform(audio_features)\n",
    "audio_features_scaled"
   ]
  },
  {
   "cell_type": "code",
   "execution_count": null,
   "id": "4046266f",
   "metadata": {},
   "outputs": [],
   "source": [
    "kmeans = KMeans(n_clusters=8, random_state=1234)\n",
    "kmeans.fit(audio_features_scaled)\n",
    "# assign a cluster to each example\n",
    "labels = kmeans.predict(audio_features_scaled)\n",
    "# retrieve unique clusters\n",
    "clusters = np.unique(labels)\n",
    "# create scatter plot for samples from each cluster\n",
    "for cluster in clusters:\n",
    "    # get row indexes for samples with this cluster\n",
    "    row_ix = np.where(labels == cluster)\n",
    "    # create scatter of these samples\n",
    "    pyplot.scatter(audio_features.to_numpy()[row_ix, 0], audio_features.to_numpy()[row_ix,1])\n",
    "    pyplot.xlabel(\"energy\")\n",
    "    pyplot.ylabel(\"instrumentalness\")\n",
    "    # show the plot\n",
    "pyplot.show()"
   ]
  },
  {
   "cell_type": "code",
   "execution_count": null,
   "id": "f8d4b696",
   "metadata": {
    "scrolled": true
   },
   "outputs": [],
   "source": [
    "clusters = kmeans.predict(audio_features_scaled)\n",
    "# clusters\n",
    "pd.Series(clusters).value_counts().sort_index()"
   ]
  },
  {
   "cell_type": "code",
   "execution_count": null,
   "id": "9413817d",
   "metadata": {},
   "outputs": [],
   "source": [
    "# saving with pickle\n",
    "import pickle\n",
    "\n",
    "# scaler = StandardScaler()\n",
    "# model = KMeans()\n",
    "\n",
    "with open(\"scaler_song_recommender.pickle\", \"wb\") as f:\n",
    "    pickle.dump(scaler,f)\n",
    "\n",
    "with open(\"kmeans_song_recommender.pickle\", \"wb\") as f:\n",
    "    pickle.dump(kmeans,f)"
   ]
  },
  {
   "cell_type": "code",
   "execution_count": null,
   "id": "3fc81301",
   "metadata": {},
   "outputs": [],
   "source": [
    "# getting the scaled songs back into a Pandas dataframe\n",
    "scaled_songs_df = pd.DataFrame(audio_features_scaled, columns=[\"danceability\", \"energy\", \"loudness\", \"speechiness\", \"acousticness\", \"liveness\", \"valence\", \"tempo\"])\n",
    "scaled_songs_df.head()"
   ]
  },
  {
   "cell_type": "code",
   "execution_count": null,
   "id": "038d9744",
   "metadata": {
    "scrolled": true
   },
   "outputs": [],
   "source": [
    "scaled_songs_df"
   ]
  },
  {
   "cell_type": "markdown",
   "id": "556a1d85",
   "metadata": {},
   "source": [
    "# Scaling the audio features of song provided by the user"
   ]
  },
  {
   "cell_type": "code",
   "execution_count": null,
   "id": "720f6a08",
   "metadata": {},
   "outputs": [],
   "source": [
    "# seaching spotify for song provided by the user\n",
    "# todo: add artist to be more specific\n",
    "user_song = \"Anyway the wind blows\"\n",
    "result = sp.search(q=user_song,limit=1)"
   ]
  },
  {
   "cell_type": "code",
   "execution_count": null,
   "id": "7bebfb4e",
   "metadata": {},
   "outputs": [],
   "source": [
    "# getting the id of a song\n",
    "result[\"tracks\"][\"items\"][0][\"id\"]"
   ]
  },
  {
   "cell_type": "code",
   "execution_count": null,
   "id": "9e3787d7",
   "metadata": {},
   "outputs": [],
   "source": [
    "# getting the audio features of a song using the song id\n",
    "user_song_audio_features = sp.audio_features(result[\"tracks\"][\"items\"][0][\"id\"])\n",
    "user_song_audio_features"
   ]
  },
  {
   "cell_type": "code",
   "execution_count": null,
   "id": "1d5e91a1",
   "metadata": {},
   "outputs": [],
   "source": [
    "# creating a Pandas dataframe with the audio features of the user song\n",
    "user_song_df = pd.DataFrame(user_song_audio_features)    \n",
    "user_song_df = user_song_df[[\"danceability\",\"energy\",\"loudness\",\"speechiness\",\"acousticness\",\n",
    "    \"instrumentalness\",\"liveness\",\"valence\",\"tempo\",\"id\",\"duration_ms\"]]\n",
    "\n",
    "user_song_df"
   ]
  },
  {
   "cell_type": "code",
   "execution_count": null,
   "id": "4170467f",
   "metadata": {},
   "outputs": [],
   "source": [
    "user_song_audio_features = user_song_df[[\"danceability\", \"energy\", \"loudness\", \"speechiness\", \"acousticness\", \"liveness\", \"valence\", \"tempo\"]]"
   ]
  },
  {
   "cell_type": "code",
   "execution_count": null,
   "id": "2ca4ec2e",
   "metadata": {},
   "outputs": [],
   "source": [
    "# scaling the song provided by the user\n",
    "user_song_audio_features_scaled = scaler.transform(user_song_audio_features)\n",
    "user_song_audio_features_scaled"
   ]
  },
  {
   "cell_type": "code",
   "execution_count": null,
   "id": "da135789",
   "metadata": {},
   "outputs": [],
   "source": [
    "# use kmeans.predict() to predict what cluster the song by user belongs to\n",
    "label = kmeans.predict(user_song_audio_features_scaled)\n",
    "label = int(label)"
   ]
  },
  {
   "cell_type": "code",
   "execution_count": null,
   "id": "e41e87b4",
   "metadata": {},
   "outputs": [],
   "source": [
    "# including the \"clusters\", \"id\" and \"duration_ms\" columns to the scaled_songs_df\n",
    "scaled_songs_df[\"clusters\"] = clusters\n",
    "scaled_songs_df = scaled_songs_df.join(songs_df[[\"id\", \"duration_ms\"]])\n",
    "scaled_songs_df"
   ]
  },
  {
   "cell_type": "code",
   "execution_count": null,
   "id": "51a3496f",
   "metadata": {},
   "outputs": [],
   "source": [
    "# saving a csv file of the scaled_songs_df\n",
    "scaled_songs_df.to_csv(\"scaled_songs_df.csv\", index=False)"
   ]
  },
  {
   "cell_type": "code",
   "execution_count": null,
   "id": "bc8b984e",
   "metadata": {},
   "outputs": [],
   "source": [
    "# including the \"id\" and \"duration_ms\" columns to the scaled_user_song_df\n",
    "scaled_user_song_df = pd.DataFrame(user_song_audio_features_scaled, columns=[\"danceability\", \"energy\", \"loudness\", \"speechiness\", \"acousticness\", \"liveness\", \"valence\", \"tempo\"])\n",
    "scaled_user_song_df = scaled_user_song_df.join(user_song_df[[\"id\", \"duration_ms\"]])\n",
    "scaled_user_song_df.head()"
   ]
  },
  {
   "cell_type": "code",
   "execution_count": null,
   "id": "5f6496e5",
   "metadata": {},
   "outputs": [],
   "source": [
    "scaled_songs_df.head()"
   ]
  },
  {
   "cell_type": "code",
   "execution_count": null,
   "id": "a54e6943",
   "metadata": {},
   "outputs": [],
   "source": [
    "# creating a sample dataframe based on matching the clusters (could probably be done more efficiently)\n",
    "sample_df = scaled_songs_df.loc[scaled_songs_df[\"clusters\"]== label]\n",
    "sample_df.head()"
   ]
  },
  {
   "cell_type": "code",
   "execution_count": null,
   "id": "5d90598a",
   "metadata": {},
   "outputs": [],
   "source": [
    "# taking the sample song\n",
    "rec_song_df = sample_df.sample(1)\n",
    "rec_song_df"
   ]
  },
  {
   "cell_type": "code",
   "execution_count": null,
   "id": "f8b37848",
   "metadata": {},
   "outputs": [],
   "source": [
    "# isolate track_id\n",
    "rec_song_id = rec_song_df[\"id\"].to_string(index=False)\n",
    "rec_song_id"
   ]
  },
  {
   "cell_type": "code",
   "execution_count": null,
   "id": "efc44137",
   "metadata": {},
   "outputs": [],
   "source": [
    "# embed the Spotify player and passs it the rec_song_id\n",
    "from IPython.display import IFrame\n",
    "\n",
    "IFrame(src=\"https://open.spotify.com/embed/track/\"+rec_song_id,\n",
    "       width=\"320\",\n",
    "       height=\"80\",\n",
    "       frameborder=\"0\",\n",
    "       allowtransparency=\"true\",\n",
    "       allow=\"encrypted-media\",\n",
    "       )"
   ]
  },
  {
   "cell_type": "code",
   "execution_count": null,
   "id": "a5862685",
   "metadata": {},
   "outputs": [],
   "source": []
  }
 ],
 "metadata": {
  "kernelspec": {
   "display_name": "Python 3 (ipykernel)",
   "language": "python",
   "name": "python3"
  },
  "language_info": {
   "codemirror_mode": {
    "name": "ipython",
    "version": 3
   },
   "file_extension": ".py",
   "mimetype": "text/x-python",
   "name": "python",
   "nbconvert_exporter": "python",
   "pygments_lexer": "ipython3",
   "version": "3.9.13"
  }
 },
 "nbformat": 4,
 "nbformat_minor": 5
}
