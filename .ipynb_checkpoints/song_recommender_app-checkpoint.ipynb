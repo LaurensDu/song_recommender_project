{
 "cells": [
  {
   "cell_type": "markdown",
   "id": "70779c47",
   "metadata": {},
   "source": [
    "# Setting up the environment"
   ]
  },
  {
   "cell_type": "code",
   "execution_count": 1,
   "id": "be23bf3e",
   "metadata": {},
   "outputs": [],
   "source": [
    "# import relevant libraries\n",
    "import requests # to download html code\n",
    "from bs4 import BeautifulSoup # to navigate through the html code\n",
    "import pandas as pd\n",
    "import numpy as np\n",
    "import re\n",
    "import random\n",
    "import config"
   ]
  },
  {
   "cell_type": "code",
   "execution_count": 2,
   "id": "4ec00cf9",
   "metadata": {},
   "outputs": [],
   "source": [
    "import spotipy\n",
    "import json\n",
    "from spotipy.oauth2 import SpotifyClientCredentials\n",
    "\n",
    "\n",
    "# initialize SpotiPy with user credentials\n",
    "sp = spotipy.Spotify(auth_manager=SpotifyClientCredentials(client_id= config.client_id,\n",
    "                                                           client_secret= config.client_secret))"
   ]
  },
  {
   "cell_type": "code",
   "execution_count": 3,
   "id": "45426479",
   "metadata": {},
   "outputs": [],
   "source": [
    "from sklearn.preprocessing import StandardScaler\n",
    "from sklearn.cluster import KMeans\n",
    "from matplotlib import pyplot\n",
    "import numpy as np"
   ]
  },
  {
   "cell_type": "code",
   "execution_count": 4,
   "id": "e72a58c9",
   "metadata": {},
   "outputs": [],
   "source": [
    "from IPython.display import IFrame"
   ]
  },
  {
   "cell_type": "markdown",
   "id": "f7439052",
   "metadata": {},
   "source": [
    "# Functions used"
   ]
  },
  {
   "cell_type": "code",
   "execution_count": 5,
   "id": "c2064e9c",
   "metadata": {},
   "outputs": [],
   "source": [
    "def load_scaler():\n",
    "    \"\"\"Loads in the required objects.\"\"\"\n",
    "    import pickle\n",
    "    with open('scaler_song_recommender.pickle', 'rb') as f:\n",
    "        return pickle.load(f)"
   ]
  },
  {
   "cell_type": "code",
   "execution_count": 6,
   "id": "0480f750",
   "metadata": {},
   "outputs": [],
   "source": [
    "def load_kmeans():\n",
    "    \"\"\"Loads in the required objects.\"\"\"\n",
    "    import pickle\n",
    "    with open('kmeans_song_recommender.pickle', 'rb') as f:\n",
    "        return pickle.load(f)"
   ]
  },
  {
   "cell_type": "code",
   "execution_count": 7,
   "id": "d1f61bfa",
   "metadata": {},
   "outputs": [],
   "source": [
    "# writing the top_100 recommender function\n",
    "def top_100_recommender():\n",
    "    \"\"\"Function that prompts the user for song input\n",
    "    and checks whether it's in the top-100 csv file.\"\"\"\n",
    "    top_100 = pd.read_csv(\"top_100.csv\")\n",
    "    user_input = input(\"Please type in a song you like: \")\n",
    "    if user_input.lower() in map(str.lower, list(top_100[\"Song\"])):\n",
    "        print(\"Your song is in the current top-100.\")\n",
    "        random_song = random.choice(list(top_100[\"Song\"]))\n",
    "        artist = top_100.loc[top_100[\"Song\"] == random_song, 'Artist'].to_string(index=False)\n",
    "        print(f\"\\nHere is another song from the top-100 you might like: {random_song} by {artist}\")\n",
    "    else: \n",
    "        print(\"\\nYour song is not in the current top-100.\")\n",
    "        play_song(random_song_recommender())\n",
    "        # for some reason the embedded track player doesn't show when this part is executed, even though the random_song_recommender() returns a valid song id"
   ]
  },
  {
   "cell_type": "code",
   "execution_count": 8,
   "id": "7fd060f1",
   "metadata": {},
   "outputs": [],
   "source": [
    "def random_song_recommender():\n",
    "    \"\"\"Prompts the use to input a song they like and finds a similar one in the song_df\"\"\"\n",
    "    scaler = load_scaler()\n",
    "    kmeans = load_kmeans()\n",
    "    scaled_songs_df = pd.read_csv(\"scaled_songs_df.csv\")\n",
    "    user_song = input(\"Please give me the name of your favorite song, so that I recommend you another one you might like: \")\n",
    "    result = sp.search(q=user_song,limit=1)\n",
    "    result[\"tracks\"][\"items\"][0][\"id\"]\n",
    "    user_song_audio_features = sp.audio_features(result[\"tracks\"][\"items\"][0][\"id\"])\n",
    "    user_song_df = pd.DataFrame(user_song_audio_features)    \n",
    "    user_song_df = user_song_df[[\"danceability\",\"energy\",\"loudness\",\"speechiness\",\"acousticness\",\n",
    "    \"instrumentalness\",\"liveness\",\"valence\",\"tempo\",\"id\",\"duration_ms\"]]\n",
    "    user_song_audio_features = user_song_df[[\"danceability\", \"energy\", \"loudness\", \"speechiness\", \"acousticness\", \"liveness\", \"valence\", \"tempo\"]]\n",
    "    user_song_audio_features_scaled = scaler.transform(user_song_audio_features)\n",
    "    label = kmeans.predict(user_song_audio_features_scaled)\n",
    "    label = int(label)\n",
    "    scaled_user_song_df = pd.DataFrame(user_song_audio_features_scaled, columns=[\"danceability\", \"energy\", \"loudness\", \"speechiness\", \"acousticness\", \"liveness\", \"valence\", \"tempo\"])\n",
    "    scaled_user_song_df = scaled_user_song_df.join(user_song_df[[\"id\", \"duration_ms\"]])\n",
    "    sample_df = scaled_songs_df.loc[scaled_songs_df[\"clusters\"]== label]\n",
    "    rec_song_df = sample_df.sample(1)\n",
    "    rec_song_id = rec_song_df[\"id\"].to_string(index=False)\n",
    "    return rec_song_id"
   ]
  },
  {
   "cell_type": "code",
   "execution_count": 9,
   "id": "46618c96",
   "metadata": {},
   "outputs": [],
   "source": [
    "def play_song(rec_song_id):\n",
    "    return IFrame(src=\"https://open.spotify.com/embed/track/\"+rec_song_id,\n",
    "       width=\"320\",\n",
    "       height=\"80\",\n",
    "       frameborder=\"0\",\n",
    "       allowtransparency=\"true\",\n",
    "       allow=\"encrypted-media\",\n",
    "      )"
   ]
  },
  {
   "cell_type": "markdown",
   "id": "eb63b803",
   "metadata": {},
   "source": [
    "# Actual programme"
   ]
  },
  {
   "cell_type": "code",
   "execution_count": 10,
   "id": "c8cdcb60",
   "metadata": {
    "collapsed": true
   },
   "outputs": [
    {
     "ename": "KeyboardInterrupt",
     "evalue": "Interrupted by user",
     "output_type": "error",
     "traceback": [
      "\u001b[1;31m---------------------------------------------------------------------------\u001b[0m",
      "\u001b[1;31mKeyboardInterrupt\u001b[0m                         Traceback (most recent call last)",
      "\u001b[1;32m~\\AppData\\Local\\Temp\\ipykernel_9740\\38510876.py\u001b[0m in \u001b[0;36m<module>\u001b[1;34m\u001b[0m\n\u001b[0;32m      2\u001b[0m \u001b[1;33m\u001b[0m\u001b[0m\n\u001b[0;32m      3\u001b[0m \u001b[1;32mwhile\u001b[0m \u001b[1;32mTrue\u001b[0m\u001b[1;33m:\u001b[0m\u001b[1;33m\u001b[0m\u001b[1;33m\u001b[0m\u001b[0m\n\u001b[1;32m----> 4\u001b[1;33m     \u001b[0mtop_100_recommender\u001b[0m\u001b[1;33m(\u001b[0m\u001b[1;33m)\u001b[0m\u001b[1;33m\u001b[0m\u001b[1;33m\u001b[0m\u001b[0m\n\u001b[0m\u001b[0;32m      5\u001b[0m     \u001b[0muser_input\u001b[0m \u001b[1;33m=\u001b[0m \u001b[0minput\u001b[0m\u001b[1;33m(\u001b[0m\u001b[1;34m\"\\nDo you want to input another song? yes/no: \"\u001b[0m\u001b[1;33m)\u001b[0m\u001b[1;33m\u001b[0m\u001b[1;33m\u001b[0m\u001b[0m\n\u001b[0;32m      6\u001b[0m     \u001b[1;32mif\u001b[0m \u001b[0muser_input\u001b[0m \u001b[1;33m==\u001b[0m \u001b[1;34m\"yes\"\u001b[0m\u001b[1;33m:\u001b[0m\u001b[1;33m\u001b[0m\u001b[1;33m\u001b[0m\u001b[0m\n",
      "\u001b[1;32m~\\AppData\\Local\\Temp\\ipykernel_9740\\3139565907.py\u001b[0m in \u001b[0;36mtop_100_recommender\u001b[1;34m()\u001b[0m\n\u001b[0;32m      4\u001b[0m     and checks whether it's in the top-100 csv file.\"\"\"\n\u001b[0;32m      5\u001b[0m     \u001b[0mtop_100\u001b[0m \u001b[1;33m=\u001b[0m \u001b[0mpd\u001b[0m\u001b[1;33m.\u001b[0m\u001b[0mread_csv\u001b[0m\u001b[1;33m(\u001b[0m\u001b[1;34m\"top_100.csv\"\u001b[0m\u001b[1;33m)\u001b[0m\u001b[1;33m\u001b[0m\u001b[1;33m\u001b[0m\u001b[0m\n\u001b[1;32m----> 6\u001b[1;33m     \u001b[0muser_input\u001b[0m \u001b[1;33m=\u001b[0m \u001b[0minput\u001b[0m\u001b[1;33m(\u001b[0m\u001b[1;34m\"Please type in a song you like: \"\u001b[0m\u001b[1;33m)\u001b[0m\u001b[1;33m\u001b[0m\u001b[1;33m\u001b[0m\u001b[0m\n\u001b[0m\u001b[0;32m      7\u001b[0m     \u001b[1;32mif\u001b[0m \u001b[0muser_input\u001b[0m\u001b[1;33m.\u001b[0m\u001b[0mlower\u001b[0m\u001b[1;33m(\u001b[0m\u001b[1;33m)\u001b[0m \u001b[1;32min\u001b[0m \u001b[0mmap\u001b[0m\u001b[1;33m(\u001b[0m\u001b[0mstr\u001b[0m\u001b[1;33m.\u001b[0m\u001b[0mlower\u001b[0m\u001b[1;33m,\u001b[0m \u001b[0mlist\u001b[0m\u001b[1;33m(\u001b[0m\u001b[0mtop_100\u001b[0m\u001b[1;33m[\u001b[0m\u001b[1;34m\"Song\"\u001b[0m\u001b[1;33m]\u001b[0m\u001b[1;33m)\u001b[0m\u001b[1;33m)\u001b[0m\u001b[1;33m:\u001b[0m\u001b[1;33m\u001b[0m\u001b[1;33m\u001b[0m\u001b[0m\n\u001b[0;32m      8\u001b[0m         \u001b[0mprint\u001b[0m\u001b[1;33m(\u001b[0m\u001b[1;34m\"Your song is in the current top-100.\"\u001b[0m\u001b[1;33m)\u001b[0m\u001b[1;33m\u001b[0m\u001b[1;33m\u001b[0m\u001b[0m\n",
      "\u001b[1;32m~\\anaconda3\\lib\\site-packages\\ipykernel\\kernelbase.py\u001b[0m in \u001b[0;36mraw_input\u001b[1;34m(self, prompt)\u001b[0m\n\u001b[0;32m   1175\u001b[0m                 \u001b[1;34m\"raw_input was called, but this frontend does not support input requests.\"\u001b[0m\u001b[1;33m\u001b[0m\u001b[1;33m\u001b[0m\u001b[0m\n\u001b[0;32m   1176\u001b[0m             )\n\u001b[1;32m-> 1177\u001b[1;33m         return self._input_request(\n\u001b[0m\u001b[0;32m   1178\u001b[0m             \u001b[0mstr\u001b[0m\u001b[1;33m(\u001b[0m\u001b[0mprompt\u001b[0m\u001b[1;33m)\u001b[0m\u001b[1;33m,\u001b[0m\u001b[1;33m\u001b[0m\u001b[1;33m\u001b[0m\u001b[0m\n\u001b[0;32m   1179\u001b[0m             \u001b[0mself\u001b[0m\u001b[1;33m.\u001b[0m\u001b[0m_parent_ident\u001b[0m\u001b[1;33m[\u001b[0m\u001b[1;34m\"shell\"\u001b[0m\u001b[1;33m]\u001b[0m\u001b[1;33m,\u001b[0m\u001b[1;33m\u001b[0m\u001b[1;33m\u001b[0m\u001b[0m\n",
      "\u001b[1;32m~\\anaconda3\\lib\\site-packages\\ipykernel\\kernelbase.py\u001b[0m in \u001b[0;36m_input_request\u001b[1;34m(self, prompt, ident, parent, password)\u001b[0m\n\u001b[0;32m   1217\u001b[0m             \u001b[1;32mexcept\u001b[0m \u001b[0mKeyboardInterrupt\u001b[0m\u001b[1;33m:\u001b[0m\u001b[1;33m\u001b[0m\u001b[1;33m\u001b[0m\u001b[0m\n\u001b[0;32m   1218\u001b[0m                 \u001b[1;31m# re-raise KeyboardInterrupt, to truncate traceback\u001b[0m\u001b[1;33m\u001b[0m\u001b[1;33m\u001b[0m\u001b[0m\n\u001b[1;32m-> 1219\u001b[1;33m                 \u001b[1;32mraise\u001b[0m \u001b[0mKeyboardInterrupt\u001b[0m\u001b[1;33m(\u001b[0m\u001b[1;34m\"Interrupted by user\"\u001b[0m\u001b[1;33m)\u001b[0m \u001b[1;32mfrom\u001b[0m \u001b[1;32mNone\u001b[0m\u001b[1;33m\u001b[0m\u001b[1;33m\u001b[0m\u001b[0m\n\u001b[0m\u001b[0;32m   1220\u001b[0m             \u001b[1;32mexcept\u001b[0m \u001b[0mException\u001b[0m\u001b[1;33m:\u001b[0m\u001b[1;33m\u001b[0m\u001b[1;33m\u001b[0m\u001b[0m\n\u001b[0;32m   1221\u001b[0m                 \u001b[0mself\u001b[0m\u001b[1;33m.\u001b[0m\u001b[0mlog\u001b[0m\u001b[1;33m.\u001b[0m\u001b[0mwarning\u001b[0m\u001b[1;33m(\u001b[0m\u001b[1;34m\"Invalid Message:\"\u001b[0m\u001b[1;33m,\u001b[0m \u001b[0mexc_info\u001b[0m\u001b[1;33m=\u001b[0m\u001b[1;32mTrue\u001b[0m\u001b[1;33m)\u001b[0m\u001b[1;33m\u001b[0m\u001b[1;33m\u001b[0m\u001b[0m\n",
      "\u001b[1;31mKeyboardInterrupt\u001b[0m: Interrupted by user"
     ]
    }
   ],
   "source": [
    "# writing the loop that ensures the programme keeps running\n",
    "\n",
    "while True:\n",
    "    top_100_recommender()\n",
    "    user_input = input(\"\\nDo you want to input another song? yes/no: \")\n",
    "    if user_input == \"yes\":\n",
    "        continue\n",
    "    elif user_input == \"no\":\n",
    "        print(\"Your session has ended. Thank you for using our app!\")\n",
    "        break\n",
    "    else:\n",
    "        print(\"Please write either 'yes' or 'no'\")\n",
    "        continue"
   ]
  }
 ],
 "metadata": {
  "kernelspec": {
   "display_name": "Python 3 (ipykernel)",
   "language": "python",
   "name": "python3"
  },
  "language_info": {
   "codemirror_mode": {
    "name": "ipython",
    "version": 3
   },
   "file_extension": ".py",
   "mimetype": "text/x-python",
   "name": "python",
   "nbconvert_exporter": "python",
   "pygments_lexer": "ipython3",
   "version": "3.9.13"
  }
 },
 "nbformat": 4,
 "nbformat_minor": 5
}
