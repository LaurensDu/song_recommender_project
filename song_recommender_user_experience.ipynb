{
 "cells": [
  {
   "cell_type": "markdown",
   "id": "af919711",
   "metadata": {},
   "source": [
    "# User experience"
   ]
  },
  {
   "cell_type": "code",
   "execution_count": 93,
   "id": "acf31ba8",
   "metadata": {},
   "outputs": [],
   "source": [
    "# import relevant libraries\n",
    "import requests # to download html code\n",
    "from bs4 import BeautifulSoup # to navigate through the html code\n",
    "import pandas as pd\n",
    "import numpy as np\n",
    "import re\n",
    "import random"
   ]
  },
  {
   "cell_type": "code",
   "execution_count": 95,
   "id": "eaca274a",
   "metadata": {},
   "outputs": [],
   "source": [
    "top_100 = pd.read_csv(\"top_100.csv\", index_col=False)"
   ]
  },
  {
   "cell_type": "code",
   "execution_count": 96,
   "id": "6ca6ac39",
   "metadata": {},
   "outputs": [
    {
     "data": {
      "text/html": [
       "<div>\n",
       "<style scoped>\n",
       "    .dataframe tbody tr th:only-of-type {\n",
       "        vertical-align: middle;\n",
       "    }\n",
       "\n",
       "    .dataframe tbody tr th {\n",
       "        vertical-align: top;\n",
       "    }\n",
       "\n",
       "    .dataframe thead th {\n",
       "        text-align: right;\n",
       "    }\n",
       "</style>\n",
       "<table border=\"1\" class=\"dataframe\">\n",
       "  <thead>\n",
       "    <tr style=\"text-align: right;\">\n",
       "      <th></th>\n",
       "      <th>Artist</th>\n",
       "      <th>Song</th>\n",
       "    </tr>\n",
       "  </thead>\n",
       "  <tbody>\n",
       "    <tr>\n",
       "      <th>0</th>\n",
       "      <td>Miley Cyrus</td>\n",
       "      <td>Flowers</td>\n",
       "    </tr>\n",
       "    <tr>\n",
       "      <th>1</th>\n",
       "      <td>SZA</td>\n",
       "      <td>Kill Bill</td>\n",
       "    </tr>\n",
       "    <tr>\n",
       "      <th>2</th>\n",
       "      <td>Morgan Wallen</td>\n",
       "      <td>Last Night</td>\n",
       "    </tr>\n",
       "    <tr>\n",
       "      <th>3</th>\n",
       "      <td>Sam Smith &amp; Kim Petras</td>\n",
       "      <td>Unholy</td>\n",
       "    </tr>\n",
       "    <tr>\n",
       "      <th>4</th>\n",
       "      <td>Metro Boomin, The Weeknd &amp; 21 Savage</td>\n",
       "      <td>Creepin'</td>\n",
       "    </tr>\n",
       "  </tbody>\n",
       "</table>\n",
       "</div>"
      ],
      "text/plain": [
       "                                 Artist        Song\n",
       "0                           Miley Cyrus     Flowers\n",
       "1                                   SZA   Kill Bill\n",
       "2                         Morgan Wallen  Last Night\n",
       "3                Sam Smith & Kim Petras      Unholy\n",
       "4  Metro Boomin, The Weeknd & 21 Savage    Creepin'"
      ]
     },
     "execution_count": 96,
     "metadata": {},
     "output_type": "execute_result"
    }
   ],
   "source": [
    "top_100.head()"
   ]
  },
  {
   "cell_type": "code",
   "execution_count": 178,
   "id": "25cd9586",
   "metadata": {},
   "outputs": [],
   "source": [
    "def song_recommender():\n",
    "    \"\"\"Function that prompts the user for song input\n",
    "    and checks whether it's in the top-100 csv file.\"\"\"\n",
    "    top_100 = pd.read_csv(\"top_100.csv\")\n",
    "    user_input = input(\"Please type in your favorite song: \")\n",
    "    if user_input.lower() in map(str.lower, list(top_100[\"Song\"])):\n",
    "        print(\"Your song is in the current top-100.\")\n",
    "        random_song = random.choice(list(top_100[\"Song\"]))\n",
    "        artist = top_100.loc[top_100[\"Song\"] == random_song, 'Artist'].to_string(index=False)\n",
    "        print(f\"Here is another song from the top-100 you might like: {random_song} by {artist}\")\n",
    "    else: \n",
    "        print(\"Your song is not in the current top-100. Let me give you a suggestion for another song.\")"
   ]
  },
  {
   "cell_type": "code",
   "execution_count": 179,
   "id": "b7e1c5a2",
   "metadata": {},
   "outputs": [
    {
     "name": "stdout",
     "output_type": "stream",
     "text": [
      "Please type in your favorite song: test\n",
      "Your song is not in the current top-100. Let me give you a suggestion for another song.\n"
     ]
    }
   ],
   "source": [
    "song_recommender()"
   ]
  },
  {
   "cell_type": "code",
   "execution_count": null,
   "id": "01fe9ef6",
   "metadata": {},
   "outputs": [],
   "source": []
  }
 ],
 "metadata": {
  "kernelspec": {
   "display_name": "Python 3 (ipykernel)",
   "language": "python",
   "name": "python3"
  },
  "language_info": {
   "codemirror_mode": {
    "name": "ipython",
    "version": 3
   },
   "file_extension": ".py",
   "mimetype": "text/x-python",
   "name": "python",
   "nbconvert_exporter": "python",
   "pygments_lexer": "ipython3",
   "version": "3.9.13"
  }
 },
 "nbformat": 4,
 "nbformat_minor": 5
}
